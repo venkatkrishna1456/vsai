{
  "nbformat": 4,
  "nbformat_minor": 0,
  "metadata": {
    "colab": {
      "name": "26-12-2019.ipynb",
      "provenance": [],
      "collapsed_sections": [],
      "include_colab_link": true
    },
    "kernelspec": {
      "name": "python3",
      "display_name": "Python 3"
    }
  },
  "cells": [
    {
      "cell_type": "markdown",
      "metadata": {
        "id": "view-in-github",
        "colab_type": "text"
      },
      "source": [
        "<a href=\"https://colab.research.google.com/github/venkatkrishna1456/vsai/blob/master/26_12_2019.ipynb\" target=\"_parent\"><img src=\"https://colab.research.google.com/assets/colab-badge.svg\" alt=\"Open In Colab\"/></a>"
      ]
    },
    {
      "cell_type": "code",
      "metadata": {
        "id": "LSjYbodcXN2n",
        "colab_type": "code",
        "outputId": "818777d6-4421-494a-cb96-a6848a281a87",
        "colab": {
          "base_uri": "https://localhost:8080/",
          "height": 102
        }
      },
      "source": [
        "print(\"enter three numbers\")\n",
        "a=int(input(\"enter a number\"))\n",
        "b=int(input(\"enter a number\"))\n",
        "c=int(input(\"enter a number\"))\n",
        "if a>b:\n",
        "  print(\"a is greater\")\n",
        "elif b>c:  \n",
        "  print(\"b is greatest\")\n",
        "else: \n",
        "  print(\"c is greater\")"
      ],
      "execution_count": 0,
      "outputs": [
        {
          "output_type": "stream",
          "text": [
            "enter three numbers\n",
            "enter a number1\n",
            "enter a number2\n",
            "enter a number3\n",
            "c is greater\n"
          ],
          "name": "stdout"
        }
      ]
    },
    {
      "cell_type": "code",
      "metadata": {
        "id": "uBbzXUvaYMm0",
        "colab_type": "code",
        "colab": {}
      },
      "source": [
        ""
      ],
      "execution_count": 0,
      "outputs": []
    },
    {
      "cell_type": "markdown",
      "metadata": {
        "id": "EyVVAtIFZ9l8",
        "colab_type": "text"
      },
      "source": [
        "# while statements\n",
        "## syntax"
      ]
    },
    {
      "cell_type": "code",
      "metadata": {
        "id": "1j_cmy-BaExg",
        "colab_type": "code",
        "colab": {}
      },
      "source": [
        ""
      ],
      "execution_count": 0,
      "outputs": []
    },
    {
      "cell_type": "markdown",
      "metadata": {
        "id": "-3uBGKNhaJfD",
        "colab_type": "text"
      },
      "source": [
        "####  while boolean_condition:<br>\n",
        "      statenents<br>\n",
        "      increment/decrement<br>"
      ]
    },
    {
      "cell_type": "code",
      "metadata": {
        "id": "dudDhlG_ac3F",
        "colab_type": "code",
        "colab": {}
      },
      "source": [
        ""
      ],
      "execution_count": 0,
      "outputs": []
    },
    {
      "cell_type": "code",
      "metadata": {
        "id": "-IF6fsR3bLdn",
        "colab_type": "code",
        "outputId": "1f4055d9-8548-475d-bae6-504247d4d894",
        "colab": {
          "base_uri": "https://localhost:8080/",
          "height": 102
        }
      },
      "source": [
        "x=0\n",
        "while(x<5):\n",
        "  print(\"gitam\")\n",
        "  x=x+1"
      ],
      "execution_count": 0,
      "outputs": [
        {
          "output_type": "stream",
          "text": [
            "gitam\n",
            "gitam\n",
            "gitam\n",
            "gitam\n",
            "gitam\n"
          ],
          "name": "stdout"
        }
      ]
    },
    {
      "cell_type": "code",
      "metadata": {
        "id": "p9rQ71SEbcyO",
        "colab_type": "code",
        "outputId": "4363cfd0-8c15-40c4-b9c0-ce55a011e6b9",
        "colab": {
          "base_uri": "https://localhost:8080/",
          "height": 51
        }
      },
      "source": [
        "\n",
        "n=int(input(\"enter a number\"))\n",
        "i=1\n",
        "while i<=n:\n",
        "      print(i,end=\"\")\n",
        "      i=i+1"
      ],
      "execution_count": 0,
      "outputs": [
        {
          "output_type": "stream",
          "text": [
            "enter a number6\n",
            "123456"
          ],
          "name": "stdout"
        }
      ]
    },
    {
      "cell_type": "code",
      "metadata": {
        "id": "xmWsCVDBdAoW",
        "colab_type": "code",
        "outputId": "cea2a091-df29-4462-cb50-5a3c61d62d31",
        "colab": {
          "base_uri": "https://localhost:8080/",
          "height": 51
        }
      },
      "source": [
        "n=int(input(\"enter a number\"))\n",
        "i=1\n",
        "sum=0\n",
        "while i<=n:\n",
        "     if i%2==0:\n",
        "       sum=sum+i  \n",
        "     i=i+1\n",
        "print(sum)\n",
        "      "
      ],
      "execution_count": 0,
      "outputs": [
        {
          "output_type": "stream",
          "text": [
            "enter a number10\n",
            "30\n"
          ],
          "name": "stdout"
        }
      ]
    },
    {
      "cell_type": "code",
      "metadata": {
        "id": "w76ux9F1fymm",
        "colab_type": "code",
        "outputId": "6b83be5b-6952-4080-f6c8-aa6853cb0b31",
        "colab": {
          "base_uri": "https://localhost:8080/",
          "height": 51
        }
      },
      "source": [
        "n=int(input(\"enter a number\"))\n",
        "while n!=0:\n",
        "   r=n%10\n",
        "   print(r,end=\" \")\n",
        "   n=n//10"
      ],
      "execution_count": 0,
      "outputs": [
        {
          "output_type": "stream",
          "text": [
            "enter a number123\n",
            "3 2 1 "
          ],
          "name": "stdout"
        }
      ]
    },
    {
      "cell_type": "code",
      "metadata": {
        "id": "UTMS5GJ0kOo6",
        "colab_type": "code",
        "colab": {}
      },
      "source": [
        "\n"
      ],
      "execution_count": 0,
      "outputs": []
    },
    {
      "cell_type": "markdown",
      "metadata": {
        "id": "iE6Qf7IglRoL",
        "colab_type": "text"
      },
      "source": [
        "## syntax\n",
        " def nameofthefunction(<parameters>):\n",
        "#      statenents\n",
        "#     return"
      ]
    },
    {
      "cell_type": "markdown",
      "metadata": {
        "id": "XkNinuxYlQRr",
        "colab_type": "text"
      },
      "source": [
        ""
      ]
    },
    {
      "cell_type": "code",
      "metadata": {
        "id": "Esm026fnl45M",
        "colab_type": "code",
        "colab": {
          "base_uri": "https://localhost:8080/",
          "height": 34
        },
        "outputId": "d8cd81e1-77c8-4b95-bae1-1e6fb0ab1571"
      },
      "source": [
        "def addevendigit(n):\n",
        "  sum=0\n",
        "  while n!=0:\n",
        "    r =n%10\n",
        "    if r %2==0:\n",
        "       sum=sum+r\n",
        "    n=n//10\n",
        "  return sum\n",
        "addevendigit(1234)    "
      ],
      "execution_count": 38,
      "outputs": [
        {
          "output_type": "execute_result",
          "data": {
            "text/plain": [
              "6"
            ]
          },
          "metadata": {
            "tags": []
          },
          "execution_count": 38
        }
      ]
    },
    {
      "cell_type": "code",
      "metadata": {
        "id": "VIsODCs-nAxK",
        "colab_type": "code",
        "colab": {
          "base_uri": "https://localhost:8080/",
          "height": 51
        },
        "outputId": "79e05ec1-8c72-48b3-d617-27b044708565"
      },
      "source": [
        "n=int(input(\"enter a number\"))\n",
        "def largestnum(n):\n",
        "  l=0\n",
        "  while n!=0:\n",
        "    r=n%10\n",
        "    if(r>l):\n",
        "      l=r\n",
        "    n=n//10\n",
        "  return l\n",
        "largestnum(n)  "
      ],
      "execution_count": 43,
      "outputs": [
        {
          "output_type": "stream",
          "text": [
            "enter a number12345\n"
          ],
          "name": "stdout"
        },
        {
          "output_type": "execute_result",
          "data": {
            "text/plain": [
              "5"
            ]
          },
          "metadata": {
            "tags": []
          },
          "execution_count": 43
        }
      ]
    },
    {
      "cell_type": "code",
      "metadata": {
        "id": "hSPP8ovWsd8l",
        "colab_type": "code",
        "colab": {}
      },
      "source": [
        ""
      ],
      "execution_count": 0,
      "outputs": []
    },
    {
      "cell_type": "code",
      "metadata": {
        "id": "_p_b83rktxG9",
        "colab_type": "code",
        "colab": {
          "base_uri": "https://localhost:8080/",
          "height": 51
        },
        "outputId": "206ece94-a10d-48ef-be36-f14d42dd299c"
      },
      "source": [
        "def ispalindrome(n):\n",
        " rev=0\n",
        " buffer = n\n",
        " while n!=0:\n",
        "   r=n%10\n",
        "   rev=rev*10+r\n",
        "   n=n//10\n",
        " if buffer == rev:\n",
        "   return \"yes\"\n",
        " else:\n",
        "   return \"no\"      \n",
        "print(ispalindrome(123))   \n",
        "print(ispalindrome(121))   "
      ],
      "execution_count": 52,
      "outputs": [
        {
          "output_type": "stream",
          "text": [
            "no\n",
            "yes\n"
          ],
          "name": "stdout"
        }
      ]
    },
    {
      "cell_type": "code",
      "metadata": {
        "id": "J9cXhkgJygp4",
        "colab_type": "code",
        "colab": {
          "base_uri": "https://localhost:8080/",
          "height": 129
        },
        "outputId": "1b6409d0-9291-4b52-b019-32d49c9be5ad"
      },
      "source": [
        "def natural(n)\n",
        " for i in range(1,n+1):\n",
        "   print(i,end=\" \")\n",
        "natural(110)   \n"
      ],
      "execution_count": 53,
      "outputs": [
        {
          "output_type": "error",
          "ename": "SyntaxError",
          "evalue": "ignored",
          "traceback": [
            "\u001b[0;36m  File \u001b[0;32m\"<ipython-input-53-f298bd3d73ee>\"\u001b[0;36m, line \u001b[0;32m1\u001b[0m\n\u001b[0;31m    def natural(n)\u001b[0m\n\u001b[0m                  ^\u001b[0m\n\u001b[0;31mSyntaxError\u001b[0m\u001b[0;31m:\u001b[0m invalid syntax\n"
          ]
        }
      ]
    },
    {
      "cell_type": "code",
      "metadata": {
        "id": "r8Gq5Sip0tRB",
        "colab_type": "code",
        "colab": {}
      },
      "source": [
        ""
      ],
      "execution_count": 0,
      "outputs": []
    },
    {
      "cell_type": "code",
      "metadata": {
        "id": "GPn-GK9M0x5U",
        "colab_type": "code",
        "colab": {}
      },
      "source": [
        ""
      ],
      "execution_count": 0,
      "outputs": []
    },
    {
      "cell_type": "code",
      "metadata": {
        "id": "epAKE1md0vcu",
        "colab_type": "code",
        "colab": {
          "base_uri": "https://localhost:8080/",
          "height": 34
        },
        "outputId": "ca704351-f895-48a7-c187-8cb4e2e26309"
      },
      "source": [
        "def natural(n):\n",
        " for i in range(1,n+1):\n",
        "   print(i,end=\" \")\n",
        "natural(10)   \n"
      ],
      "execution_count": 56,
      "outputs": [
        {
          "output_type": "stream",
          "text": [
            "1 2 3 4 5 6 7 8 9 10 "
          ],
          "name": "stdout"
        }
      ]
    },
    {
      "cell_type": "code",
      "metadata": {
        "id": "YSUx9X0B0zxO",
        "colab_type": "code",
        "colab": {
          "base_uri": "https://localhost:8080/",
          "height": 34
        },
        "outputId": "fcbbb65a-df71-4d66-a1ea-0fe5ddf2ded1"
      },
      "source": [
        "def natural(n,l):\n",
        " for i in range(n,l+1,3):\n",
        "   print(i,end=\" \")\n",
        "natural(1,10)   \n"
      ],
      "execution_count": 62,
      "outputs": [
        {
          "output_type": "stream",
          "text": [
            "1 4 7 10 "
          ],
          "name": "stdout"
        }
      ]
    },
    {
      "cell_type": "code",
      "metadata": {
        "id": "Axbkzuo_1Eua",
        "colab_type": "code",
        "colab": {}
      },
      "source": [
        "## datastructure\n"
      ],
      "execution_count": 0,
      "outputs": []
    },
    {
      "cell_type": "code",
      "metadata": {
        "id": "4vGbWaMB5za4",
        "colab_type": "code",
        "colab": {}
      },
      "source": [
        ""
      ],
      "execution_count": 0,
      "outputs": []
    },
    {
      "cell_type": "markdown",
      "metadata": {
        "id": "JWqyWvtC51-l",
        "colab_type": "text"
      },
      "source": [
        "## data structures\n"
      ]
    },
    {
      "cell_type": "markdown",
      "metadata": {
        "id": "N7g6aWku50Zk",
        "colab_type": "text"
      },
      "source": [
        ""
      ]
    },
    {
      "cell_type": "markdown",
      "metadata": {
        "id": "0noMdLxD59Ib",
        "colab_type": "text"
      },
      "source": [
        "- list\n",
        "- tuple\n",
        "- dictionary"
      ]
    },
    {
      "cell_type": "code",
      "metadata": {
        "id": "0OXCucvO6CYO",
        "colab_type": "code",
        "colab": {}
      },
      "source": [
        ""
      ],
      "execution_count": 0,
      "outputs": []
    },
    {
      "cell_type": "markdown",
      "metadata": {
        "id": "QttoASZh6ItN",
        "colab_type": "text"
      },
      "source": [
        "## list\n",
        "- examples\n",
        "-its one common data structure in python,the items are seperated by comma and enclosed by[]\n",
        "-crud operations\n",
        "  -c-create\n",
        "  -r-read\n",
        "  -u-update\n",
        "  -d-delete"
      ]
    },
    {
      "cell_type": "code",
      "metadata": {
        "id": "BWJHo8hc6Uk-",
        "colab_type": "code",
        "colab": {}
      },
      "source": [
        "\n"
      ],
      "execution_count": 0,
      "outputs": []
    },
    {
      "cell_type": "markdown",
      "metadata": {
        "id": "0O2NfJ3p6Vrs",
        "colab_type": "text"
      },
      "source": [
        "list=[1,2,3,4,5]"
      ]
    },
    {
      "cell_type": "code",
      "metadata": {
        "id": "zFHLK5X-6eAI",
        "colab_type": "code",
        "colab": {}
      },
      "source": [
        ""
      ],
      "execution_count": 0,
      "outputs": []
    },
    {
      "cell_type": "code",
      "metadata": {
        "id": "tp93pP8n7yx9",
        "colab_type": "code",
        "colab": {
          "base_uri": "https://localhost:8080/",
          "height": 34
        },
        "outputId": "116dd66b-d8ce-4465-d0ee-eb3b0fdd0dcf"
      },
      "source": [
        "li=[0,1,2,3,4,5]\n",
        "print(li[0])"
      ],
      "execution_count": 63,
      "outputs": [
        {
          "output_type": "stream",
          "text": [
            "0\n"
          ],
          "name": "stdout"
        }
      ]
    },
    {
      "cell_type": "code",
      "metadata": {
        "id": "OILHx1x69tBS",
        "colab_type": "code",
        "colab": {}
      },
      "source": [
        ""
      ],
      "execution_count": 0,
      "outputs": []
    }
  ]
}